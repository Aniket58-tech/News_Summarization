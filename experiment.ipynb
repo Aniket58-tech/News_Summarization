{
 "cells": [
  {
   "cell_type": "code",
   "execution_count": 1,
   "id": "bc09c757",
   "metadata": {},
   "outputs": [
    {
     "name": "stderr",
     "output_type": "stream",
     "text": [
      "d:\\ML_Projects\\News_Summarization\\venv\\Lib\\site-packages\\tqdm\\auto.py:21: TqdmWarning: IProgress not found. Please update jupyter and ipywidgets. See https://ipywidgets.readthedocs.io/en/stable/user_install.html\n",
      "  from .autonotebook import tqdm as notebook_tqdm\n"
     ]
    },
    {
     "name": "stdout",
     "output_type": "stream",
     "text": [
      "Path to dataset files: C:\\Users\\garga\\.cache\\kagglehub\\datasets\\hgultekin\\bbcnewsarchive\\versions\\1\n"
     ]
    }
   ],
   "source": [
    "import kagglehub\n",
    "\n",
    "# Download latest version\n",
    "path = kagglehub.dataset_download(\"hgultekin/bbcnewsarchive\")\n",
    "\n",
    "print(\"Path to dataset files:\", path)"
   ]
  },
  {
   "cell_type": "code",
   "execution_count": 2,
   "id": "c2a86487",
   "metadata": {},
   "outputs": [
    {
     "data": {
      "text/html": [
       "<div>\n",
       "<style scoped>\n",
       "    .dataframe tbody tr th:only-of-type {\n",
       "        vertical-align: middle;\n",
       "    }\n",
       "\n",
       "    .dataframe tbody tr th {\n",
       "        vertical-align: top;\n",
       "    }\n",
       "\n",
       "    .dataframe thead th {\n",
       "        text-align: right;\n",
       "    }\n",
       "</style>\n",
       "<table border=\"1\" class=\"dataframe\">\n",
       "  <thead>\n",
       "    <tr style=\"text-align: right;\">\n",
       "      <th></th>\n",
       "      <th>category</th>\n",
       "      <th>filename</th>\n",
       "      <th>title</th>\n",
       "      <th>content</th>\n",
       "    </tr>\n",
       "  </thead>\n",
       "  <tbody>\n",
       "    <tr>\n",
       "      <th>0</th>\n",
       "      <td>business</td>\n",
       "      <td>001.txt</td>\n",
       "      <td>Ad sales boost Time Warner profit</td>\n",
       "      <td>Quarterly profits at US media giant TimeWarne...</td>\n",
       "    </tr>\n",
       "    <tr>\n",
       "      <th>1</th>\n",
       "      <td>business</td>\n",
       "      <td>002.txt</td>\n",
       "      <td>Dollar gains on Greenspan speech</td>\n",
       "      <td>The dollar has hit its highest level against ...</td>\n",
       "    </tr>\n",
       "    <tr>\n",
       "      <th>2</th>\n",
       "      <td>business</td>\n",
       "      <td>003.txt</td>\n",
       "      <td>Yukos unit buyer faces loan claim</td>\n",
       "      <td>The owners of embattled Russian oil giant Yuk...</td>\n",
       "    </tr>\n",
       "    <tr>\n",
       "      <th>3</th>\n",
       "      <td>business</td>\n",
       "      <td>004.txt</td>\n",
       "      <td>High fuel prices hit BA's profits</td>\n",
       "      <td>British Airways has blamed high fuel prices f...</td>\n",
       "    </tr>\n",
       "    <tr>\n",
       "      <th>4</th>\n",
       "      <td>business</td>\n",
       "      <td>005.txt</td>\n",
       "      <td>Pernod takeover talk lifts Domecq</td>\n",
       "      <td>Shares in UK drinks and food firm Allied Dome...</td>\n",
       "    </tr>\n",
       "  </tbody>\n",
       "</table>\n",
       "</div>"
      ],
      "text/plain": [
       "   category filename                              title  \\\n",
       "0  business  001.txt  Ad sales boost Time Warner profit   \n",
       "1  business  002.txt   Dollar gains on Greenspan speech   \n",
       "2  business  003.txt  Yukos unit buyer faces loan claim   \n",
       "3  business  004.txt  High fuel prices hit BA's profits   \n",
       "4  business  005.txt  Pernod takeover talk lifts Domecq   \n",
       "\n",
       "                                             content  \n",
       "0   Quarterly profits at US media giant TimeWarne...  \n",
       "1   The dollar has hit its highest level against ...  \n",
       "2   The owners of embattled Russian oil giant Yuk...  \n",
       "3   British Airways has blamed high fuel prices f...  \n",
       "4   Shares in UK drinks and food firm Allied Dome...  "
      ]
     },
     "execution_count": 2,
     "metadata": {},
     "output_type": "execute_result"
    }
   ],
   "source": [
    "import pandas as pd\n",
    "\n",
    "df=pd.read_csv('bbc-news-data.csv',sep='\\t')\n",
    "df.head()"
   ]
  },
  {
   "cell_type": "code",
   "execution_count": 3,
   "id": "7b8e9521",
   "metadata": {},
   "outputs": [
    {
     "data": {
      "text/plain": [
       "category    0\n",
       "filename    0\n",
       "title       0\n",
       "content     0\n",
       "dtype: int64"
      ]
     },
     "execution_count": 3,
     "metadata": {},
     "output_type": "execute_result"
    }
   ],
   "source": [
    "df.isnull().sum()"
   ]
  },
  {
   "cell_type": "code",
   "execution_count": 4,
   "id": "d0e2bcf3",
   "metadata": {},
   "outputs": [
    {
     "data": {
      "text/html": [
       "<div>\n",
       "<style scoped>\n",
       "    .dataframe tbody tr th:only-of-type {\n",
       "        vertical-align: middle;\n",
       "    }\n",
       "\n",
       "    .dataframe tbody tr th {\n",
       "        vertical-align: top;\n",
       "    }\n",
       "\n",
       "    .dataframe thead th {\n",
       "        text-align: right;\n",
       "    }\n",
       "</style>\n",
       "<table border=\"1\" class=\"dataframe\">\n",
       "  <thead>\n",
       "    <tr style=\"text-align: right;\">\n",
       "      <th></th>\n",
       "      <th>category</th>\n",
       "      <th>filename</th>\n",
       "      <th>title</th>\n",
       "      <th>content</th>\n",
       "    </tr>\n",
       "  </thead>\n",
       "  <tbody>\n",
       "    <tr>\n",
       "      <th>count</th>\n",
       "      <td>2225</td>\n",
       "      <td>2225</td>\n",
       "      <td>2225</td>\n",
       "      <td>2225</td>\n",
       "    </tr>\n",
       "    <tr>\n",
       "      <th>unique</th>\n",
       "      <td>5</td>\n",
       "      <td>511</td>\n",
       "      <td>2096</td>\n",
       "      <td>2092</td>\n",
       "    </tr>\n",
       "    <tr>\n",
       "      <th>top</th>\n",
       "      <td>sport</td>\n",
       "      <td>001.txt</td>\n",
       "      <td>Troubled Marsh under SEC scrutiny</td>\n",
       "      <td>Music and film fans will be able to control t...</td>\n",
       "    </tr>\n",
       "    <tr>\n",
       "      <th>freq</th>\n",
       "      <td>511</td>\n",
       "      <td>5</td>\n",
       "      <td>2</td>\n",
       "      <td>2</td>\n",
       "    </tr>\n",
       "  </tbody>\n",
       "</table>\n",
       "</div>"
      ],
      "text/plain": [
       "       category filename                              title  \\\n",
       "count      2225     2225                               2225   \n",
       "unique        5      511                               2096   \n",
       "top       sport  001.txt  Troubled Marsh under SEC scrutiny   \n",
       "freq        511        5                                  2   \n",
       "\n",
       "                                                  content  \n",
       "count                                                2225  \n",
       "unique                                               2092  \n",
       "top      Music and film fans will be able to control t...  \n",
       "freq                                                    2  "
      ]
     },
     "execution_count": 4,
     "metadata": {},
     "output_type": "execute_result"
    }
   ],
   "source": [
    "df.describe()"
   ]
  },
  {
   "cell_type": "code",
   "execution_count": 5,
   "id": "d4a669b0",
   "metadata": {},
   "outputs": [],
   "source": [
    "import re\n",
    "\n",
    "def clean_text(text):\n",
    "    # Lowercase\n",
    "    text = text.lower()\n",
    "    # Remove special characters and numbers\n",
    "    text = re.sub(r'[^a-zA-Z\\s]', '', text)\n",
    "    # Remove extra spaces\n",
    "    text = re.sub(r'\\s+', ' ', text).strip()\n",
    "    return text"
   ]
  },
  {
   "cell_type": "code",
   "execution_count": 6,
   "id": "81e54407",
   "metadata": {},
   "outputs": [
    {
     "name": "stdout",
     "output_type": "stream",
     "text": [
      "0    quarterly profits at us media giant timewarner...\n",
      "1    the dollar has hit its highest level against t...\n",
      "2    the owners of embattled russian oil giant yuko...\n",
      "3    british airways has blamed high fuel prices fo...\n",
      "4    shares in uk drinks and food firm allied domec...\n",
      "Name: Clean_Text, dtype: object\n"
     ]
    }
   ],
   "source": [
    "# Apply cleaning\n",
    "df['Clean_Text'] = df['content'].apply(clean_text)\n",
    "print(df['Clean_Text'].head())"
   ]
  },
  {
   "cell_type": "code",
   "execution_count": 7,
   "id": "ad22798c",
   "metadata": {},
   "outputs": [
    {
     "data": {
      "text/html": [
       "<div>\n",
       "<style scoped>\n",
       "    .dataframe tbody tr th:only-of-type {\n",
       "        vertical-align: middle;\n",
       "    }\n",
       "\n",
       "    .dataframe tbody tr th {\n",
       "        vertical-align: top;\n",
       "    }\n",
       "\n",
       "    .dataframe thead th {\n",
       "        text-align: right;\n",
       "    }\n",
       "</style>\n",
       "<table border=\"1\" class=\"dataframe\">\n",
       "  <thead>\n",
       "    <tr style=\"text-align: right;\">\n",
       "      <th></th>\n",
       "      <th>category</th>\n",
       "      <th>filename</th>\n",
       "      <th>title</th>\n",
       "      <th>content</th>\n",
       "      <th>Clean_Text</th>\n",
       "    </tr>\n",
       "  </thead>\n",
       "  <tbody>\n",
       "    <tr>\n",
       "      <th>0</th>\n",
       "      <td>business</td>\n",
       "      <td>001.txt</td>\n",
       "      <td>Ad sales boost Time Warner profit</td>\n",
       "      <td>Quarterly profits at US media giant TimeWarne...</td>\n",
       "      <td>quarterly profits at us media giant timewarner...</td>\n",
       "    </tr>\n",
       "    <tr>\n",
       "      <th>1</th>\n",
       "      <td>business</td>\n",
       "      <td>002.txt</td>\n",
       "      <td>Dollar gains on Greenspan speech</td>\n",
       "      <td>The dollar has hit its highest level against ...</td>\n",
       "      <td>the dollar has hit its highest level against t...</td>\n",
       "    </tr>\n",
       "    <tr>\n",
       "      <th>2</th>\n",
       "      <td>business</td>\n",
       "      <td>003.txt</td>\n",
       "      <td>Yukos unit buyer faces loan claim</td>\n",
       "      <td>The owners of embattled Russian oil giant Yuk...</td>\n",
       "      <td>the owners of embattled russian oil giant yuko...</td>\n",
       "    </tr>\n",
       "    <tr>\n",
       "      <th>3</th>\n",
       "      <td>business</td>\n",
       "      <td>004.txt</td>\n",
       "      <td>High fuel prices hit BA's profits</td>\n",
       "      <td>British Airways has blamed high fuel prices f...</td>\n",
       "      <td>british airways has blamed high fuel prices fo...</td>\n",
       "    </tr>\n",
       "    <tr>\n",
       "      <th>4</th>\n",
       "      <td>business</td>\n",
       "      <td>005.txt</td>\n",
       "      <td>Pernod takeover talk lifts Domecq</td>\n",
       "      <td>Shares in UK drinks and food firm Allied Dome...</td>\n",
       "      <td>shares in uk drinks and food firm allied domec...</td>\n",
       "    </tr>\n",
       "  </tbody>\n",
       "</table>\n",
       "</div>"
      ],
      "text/plain": [
       "   category filename                              title  \\\n",
       "0  business  001.txt  Ad sales boost Time Warner profit   \n",
       "1  business  002.txt   Dollar gains on Greenspan speech   \n",
       "2  business  003.txt  Yukos unit buyer faces loan claim   \n",
       "3  business  004.txt  High fuel prices hit BA's profits   \n",
       "4  business  005.txt  Pernod takeover talk lifts Domecq   \n",
       "\n",
       "                                             content  \\\n",
       "0   Quarterly profits at US media giant TimeWarne...   \n",
       "1   The dollar has hit its highest level against ...   \n",
       "2   The owners of embattled Russian oil giant Yuk...   \n",
       "3   British Airways has blamed high fuel prices f...   \n",
       "4   Shares in UK drinks and food firm Allied Dome...   \n",
       "\n",
       "                                          Clean_Text  \n",
       "0  quarterly profits at us media giant timewarner...  \n",
       "1  the dollar has hit its highest level against t...  \n",
       "2  the owners of embattled russian oil giant yuko...  \n",
       "3  british airways has blamed high fuel prices fo...  \n",
       "4  shares in uk drinks and food firm allied domec...  "
      ]
     },
     "execution_count": 7,
     "metadata": {},
     "output_type": "execute_result"
    }
   ],
   "source": [
    "df.head()"
   ]
  },
  {
   "cell_type": "code",
   "execution_count": 8,
   "id": "5400ccb3",
   "metadata": {},
   "outputs": [],
   "source": [
    "df=df.drop(['filename','title','content'],axis=1)"
   ]
  },
  {
   "cell_type": "code",
   "execution_count": 9,
   "id": "c6c16ba3",
   "metadata": {},
   "outputs": [
    {
     "name": "stderr",
     "output_type": "stream",
     "text": [
      "[nltk_data] Downloading package punkt_tab to\n",
      "[nltk_data]     C:\\Users\\garga\\AppData\\Roaming\\nltk_data...\n",
      "[nltk_data]   Package punkt_tab is already up-to-date!\n"
     ]
    },
    {
     "name": "stdout",
     "output_type": "stream",
     "text": [
      "0    [quarterly, profits, at, us, media, giant, tim...\n",
      "1    [the, dollar, has, hit, its, highest, level, a...\n",
      "2    [the, owners, of, embattled, russian, oil, gia...\n",
      "3    [british, airways, has, blamed, high, fuel, pr...\n",
      "4    [shares, in, uk, drinks, and, food, firm, alli...\n",
      "Name: Tokens, dtype: object\n"
     ]
    }
   ],
   "source": [
    "from nltk.tokenize import word_tokenize\n",
    "import nltk\n",
    "nltk.download('punkt_tab')\n",
    "\n",
    "df['Tokens'] = df['Clean_Text'].apply(word_tokenize)\n",
    "print(df['Tokens'].head())\n"
   ]
  },
  {
   "cell_type": "code",
   "execution_count": 10,
   "id": "36b9d2f8",
   "metadata": {},
   "outputs": [
    {
     "data": {
      "text/html": [
       "<div>\n",
       "<style scoped>\n",
       "    .dataframe tbody tr th:only-of-type {\n",
       "        vertical-align: middle;\n",
       "    }\n",
       "\n",
       "    .dataframe tbody tr th {\n",
       "        vertical-align: top;\n",
       "    }\n",
       "\n",
       "    .dataframe thead th {\n",
       "        text-align: right;\n",
       "    }\n",
       "</style>\n",
       "<table border=\"1\" class=\"dataframe\">\n",
       "  <thead>\n",
       "    <tr style=\"text-align: right;\">\n",
       "      <th></th>\n",
       "      <th>category</th>\n",
       "      <th>Clean_Text</th>\n",
       "      <th>Tokens</th>\n",
       "    </tr>\n",
       "  </thead>\n",
       "  <tbody>\n",
       "    <tr>\n",
       "      <th>0</th>\n",
       "      <td>business</td>\n",
       "      <td>quarterly profits at us media giant timewarner...</td>\n",
       "      <td>[quarterly, profits, at, us, media, giant, tim...</td>\n",
       "    </tr>\n",
       "    <tr>\n",
       "      <th>1</th>\n",
       "      <td>business</td>\n",
       "      <td>the dollar has hit its highest level against t...</td>\n",
       "      <td>[the, dollar, has, hit, its, highest, level, a...</td>\n",
       "    </tr>\n",
       "    <tr>\n",
       "      <th>2</th>\n",
       "      <td>business</td>\n",
       "      <td>the owners of embattled russian oil giant yuko...</td>\n",
       "      <td>[the, owners, of, embattled, russian, oil, gia...</td>\n",
       "    </tr>\n",
       "    <tr>\n",
       "      <th>3</th>\n",
       "      <td>business</td>\n",
       "      <td>british airways has blamed high fuel prices fo...</td>\n",
       "      <td>[british, airways, has, blamed, high, fuel, pr...</td>\n",
       "    </tr>\n",
       "    <tr>\n",
       "      <th>4</th>\n",
       "      <td>business</td>\n",
       "      <td>shares in uk drinks and food firm allied domec...</td>\n",
       "      <td>[shares, in, uk, drinks, and, food, firm, alli...</td>\n",
       "    </tr>\n",
       "  </tbody>\n",
       "</table>\n",
       "</div>"
      ],
      "text/plain": [
       "   category                                         Clean_Text  \\\n",
       "0  business  quarterly profits at us media giant timewarner...   \n",
       "1  business  the dollar has hit its highest level against t...   \n",
       "2  business  the owners of embattled russian oil giant yuko...   \n",
       "3  business  british airways has blamed high fuel prices fo...   \n",
       "4  business  shares in uk drinks and food firm allied domec...   \n",
       "\n",
       "                                              Tokens  \n",
       "0  [quarterly, profits, at, us, media, giant, tim...  \n",
       "1  [the, dollar, has, hit, its, highest, level, a...  \n",
       "2  [the, owners, of, embattled, russian, oil, gia...  \n",
       "3  [british, airways, has, blamed, high, fuel, pr...  \n",
       "4  [shares, in, uk, drinks, and, food, firm, alli...  "
      ]
     },
     "execution_count": 10,
     "metadata": {},
     "output_type": "execute_result"
    }
   ],
   "source": [
    "df.head()"
   ]
  },
  {
   "cell_type": "code",
   "execution_count": 11,
   "id": "c2f10677",
   "metadata": {},
   "outputs": [],
   "source": [
    "df=df.drop('Clean_Text',axis=1)"
   ]
  },
  {
   "cell_type": "code",
   "execution_count": 12,
   "id": "648e1f21",
   "metadata": {},
   "outputs": [
    {
     "name": "stdout",
     "output_type": "stream",
     "text": [
      "0    [quarterly, profits, us, media, giant, timewar...\n",
      "1    [dollar, hit, highest, level, euro, almost, th...\n",
      "2    [owners, embattled, russian, oil, giant, yukos...\n",
      "3    [british, airways, blamed, high, fuel, prices,...\n",
      "4    [shares, uk, drinks, food, firm, allied, domec...\n",
      "Name: Tokens, dtype: object\n"
     ]
    },
    {
     "name": "stderr",
     "output_type": "stream",
     "text": [
      "[nltk_data] Downloading package stopwords to\n",
      "[nltk_data]     C:\\Users\\garga\\AppData\\Roaming\\nltk_data...\n",
      "[nltk_data]   Package stopwords is already up-to-date!\n"
     ]
    }
   ],
   "source": [
    "from nltk.corpus import stopwords\n",
    "nltk.download('stopwords')\n",
    "stop_words = set(stopwords.words('english'))\n",
    "\n",
    "df['Tokens'] = df['Tokens'].apply(lambda x: [word for word in x if word not in stop_words])\n",
    "print(df['Tokens'].head())\n"
   ]
  },
  {
   "cell_type": "code",
   "execution_count": 13,
   "id": "f1de8439",
   "metadata": {},
   "outputs": [
    {
     "data": {
      "text/html": [
       "<div>\n",
       "<style scoped>\n",
       "    .dataframe tbody tr th:only-of-type {\n",
       "        vertical-align: middle;\n",
       "    }\n",
       "\n",
       "    .dataframe tbody tr th {\n",
       "        vertical-align: top;\n",
       "    }\n",
       "\n",
       "    .dataframe thead th {\n",
       "        text-align: right;\n",
       "    }\n",
       "</style>\n",
       "<table border=\"1\" class=\"dataframe\">\n",
       "  <thead>\n",
       "    <tr style=\"text-align: right;\">\n",
       "      <th></th>\n",
       "      <th>category</th>\n",
       "      <th>Tokens</th>\n",
       "    </tr>\n",
       "  </thead>\n",
       "  <tbody>\n",
       "    <tr>\n",
       "      <th>0</th>\n",
       "      <td>business</td>\n",
       "      <td>[quarterly, profits, us, media, giant, timewar...</td>\n",
       "    </tr>\n",
       "    <tr>\n",
       "      <th>1</th>\n",
       "      <td>business</td>\n",
       "      <td>[dollar, hit, highest, level, euro, almost, th...</td>\n",
       "    </tr>\n",
       "    <tr>\n",
       "      <th>2</th>\n",
       "      <td>business</td>\n",
       "      <td>[owners, embattled, russian, oil, giant, yukos...</td>\n",
       "    </tr>\n",
       "    <tr>\n",
       "      <th>3</th>\n",
       "      <td>business</td>\n",
       "      <td>[british, airways, blamed, high, fuel, prices,...</td>\n",
       "    </tr>\n",
       "    <tr>\n",
       "      <th>4</th>\n",
       "      <td>business</td>\n",
       "      <td>[shares, uk, drinks, food, firm, allied, domec...</td>\n",
       "    </tr>\n",
       "  </tbody>\n",
       "</table>\n",
       "</div>"
      ],
      "text/plain": [
       "   category                                             Tokens\n",
       "0  business  [quarterly, profits, us, media, giant, timewar...\n",
       "1  business  [dollar, hit, highest, level, euro, almost, th...\n",
       "2  business  [owners, embattled, russian, oil, giant, yukos...\n",
       "3  business  [british, airways, blamed, high, fuel, prices,...\n",
       "4  business  [shares, uk, drinks, food, firm, allied, domec..."
      ]
     },
     "execution_count": 13,
     "metadata": {},
     "output_type": "execute_result"
    }
   ],
   "source": [
    "df.head()"
   ]
  },
  {
   "cell_type": "code",
   "execution_count": 14,
   "id": "412dd1d4",
   "metadata": {},
   "outputs": [
    {
     "name": "stderr",
     "output_type": "stream",
     "text": [
      "[nltk_data] Downloading package wordnet to\n",
      "[nltk_data]     C:\\Users\\garga\\AppData\\Roaming\\nltk_data...\n",
      "[nltk_data]   Package wordnet is already up-to-date!\n"
     ]
    },
    {
     "name": "stdout",
     "output_type": "stream",
     "text": [
      "0    [quarterli, profit, us, media, giant, timewarn...\n",
      "1    [dollar, hit, highest, level, euro, almost, th...\n",
      "2    [owner, embattl, russian, oil, giant, yuko, as...\n",
      "3    [british, airway, blame, high, fuel, price, dr...\n",
      "4    [share, uk, drink, food, firm, alli, domecq, r...\n",
      "Name: Tokens_Stemmed, dtype: object\n",
      "0    [quarterly, profit, u, medium, giant, timewarn...\n",
      "1    [dollar, hit, highest, level, euro, almost, th...\n",
      "2    [owner, embattled, russian, oil, giant, yukos,...\n",
      "3    [british, airway, blamed, high, fuel, price, d...\n",
      "4    [share, uk, drink, food, firm, allied, domecq,...\n",
      "Name: Tokens_Lemmatized, dtype: object\n"
     ]
    }
   ],
   "source": [
    "from nltk.stem import PorterStemmer, WordNetLemmatizer\n",
    "nltk.download('wordnet')\n",
    "stemmer = PorterStemmer()\n",
    "lemmatizer = WordNetLemmatizer()\n",
    "\n",
    "# Choose either stemming or lemmatization\n",
    "df['Tokens_Stemmed'] = df['Tokens'].apply(lambda x: [stemmer.stem(word) for word in x])\n",
    "df['Tokens_Lemmatized'] = df['Tokens'].apply(lambda x: [lemmatizer.lemmatize(word) for word in x])\n",
    "\n",
    "print(df['Tokens_Stemmed'].head())\n",
    "print(df['Tokens_Lemmatized'].head())\n"
   ]
  },
  {
   "cell_type": "code",
   "execution_count": 15,
   "id": "6d795b3f",
   "metadata": {},
   "outputs": [
    {
     "data": {
      "text/html": [
       "<div>\n",
       "<style scoped>\n",
       "    .dataframe tbody tr th:only-of-type {\n",
       "        vertical-align: middle;\n",
       "    }\n",
       "\n",
       "    .dataframe tbody tr th {\n",
       "        vertical-align: top;\n",
       "    }\n",
       "\n",
       "    .dataframe thead th {\n",
       "        text-align: right;\n",
       "    }\n",
       "</style>\n",
       "<table border=\"1\" class=\"dataframe\">\n",
       "  <thead>\n",
       "    <tr style=\"text-align: right;\">\n",
       "      <th></th>\n",
       "      <th>category</th>\n",
       "      <th>Tokens</th>\n",
       "      <th>Tokens_Stemmed</th>\n",
       "      <th>Tokens_Lemmatized</th>\n",
       "    </tr>\n",
       "  </thead>\n",
       "  <tbody>\n",
       "    <tr>\n",
       "      <th>0</th>\n",
       "      <td>business</td>\n",
       "      <td>[quarterly, profits, us, media, giant, timewar...</td>\n",
       "      <td>[quarterli, profit, us, media, giant, timewarn...</td>\n",
       "      <td>[quarterly, profit, u, medium, giant, timewarn...</td>\n",
       "    </tr>\n",
       "    <tr>\n",
       "      <th>1</th>\n",
       "      <td>business</td>\n",
       "      <td>[dollar, hit, highest, level, euro, almost, th...</td>\n",
       "      <td>[dollar, hit, highest, level, euro, almost, th...</td>\n",
       "      <td>[dollar, hit, highest, level, euro, almost, th...</td>\n",
       "    </tr>\n",
       "    <tr>\n",
       "      <th>2</th>\n",
       "      <td>business</td>\n",
       "      <td>[owners, embattled, russian, oil, giant, yukos...</td>\n",
       "      <td>[owner, embattl, russian, oil, giant, yuko, as...</td>\n",
       "      <td>[owner, embattled, russian, oil, giant, yukos,...</td>\n",
       "    </tr>\n",
       "    <tr>\n",
       "      <th>3</th>\n",
       "      <td>business</td>\n",
       "      <td>[british, airways, blamed, high, fuel, prices,...</td>\n",
       "      <td>[british, airway, blame, high, fuel, price, dr...</td>\n",
       "      <td>[british, airway, blamed, high, fuel, price, d...</td>\n",
       "    </tr>\n",
       "    <tr>\n",
       "      <th>4</th>\n",
       "      <td>business</td>\n",
       "      <td>[shares, uk, drinks, food, firm, allied, domec...</td>\n",
       "      <td>[share, uk, drink, food, firm, alli, domecq, r...</td>\n",
       "      <td>[share, uk, drink, food, firm, allied, domecq,...</td>\n",
       "    </tr>\n",
       "  </tbody>\n",
       "</table>\n",
       "</div>"
      ],
      "text/plain": [
       "   category                                             Tokens  \\\n",
       "0  business  [quarterly, profits, us, media, giant, timewar...   \n",
       "1  business  [dollar, hit, highest, level, euro, almost, th...   \n",
       "2  business  [owners, embattled, russian, oil, giant, yukos...   \n",
       "3  business  [british, airways, blamed, high, fuel, prices,...   \n",
       "4  business  [shares, uk, drinks, food, firm, allied, domec...   \n",
       "\n",
       "                                      Tokens_Stemmed  \\\n",
       "0  [quarterli, profit, us, media, giant, timewarn...   \n",
       "1  [dollar, hit, highest, level, euro, almost, th...   \n",
       "2  [owner, embattl, russian, oil, giant, yuko, as...   \n",
       "3  [british, airway, blame, high, fuel, price, dr...   \n",
       "4  [share, uk, drink, food, firm, alli, domecq, r...   \n",
       "\n",
       "                                   Tokens_Lemmatized  \n",
       "0  [quarterly, profit, u, medium, giant, timewarn...  \n",
       "1  [dollar, hit, highest, level, euro, almost, th...  \n",
       "2  [owner, embattled, russian, oil, giant, yukos,...  \n",
       "3  [british, airway, blamed, high, fuel, price, d...  \n",
       "4  [share, uk, drink, food, firm, allied, domecq,...  "
      ]
     },
     "execution_count": 15,
     "metadata": {},
     "output_type": "execute_result"
    }
   ],
   "source": [
    "df.head()"
   ]
  },
  {
   "cell_type": "code",
   "execution_count": 16,
   "id": "afcbce94",
   "metadata": {},
   "outputs": [
    {
     "name": "stdout",
     "output_type": "stream",
     "text": [
      "0    quarterly profit u medium giant timewarner jum...\n",
      "1    dollar hit highest level euro almost three mon...\n",
      "2    owner embattled russian oil giant yukos ask bu...\n",
      "3    british airway blamed high fuel price drop pro...\n",
      "4    share uk drink food firm allied domecq risen s...\n",
      "Name: Processed_Text, dtype: object\n"
     ]
    }
   ],
   "source": [
    "df['Processed_Text'] = df['Tokens_Lemmatized'].apply(lambda x: ' '.join(x))\n",
    "print(df['Processed_Text'].head())"
   ]
  },
  {
   "cell_type": "code",
   "execution_count": 17,
   "id": "6ab210e0",
   "metadata": {},
   "outputs": [
    {
     "data": {
      "text/html": [
       "<div>\n",
       "<style scoped>\n",
       "    .dataframe tbody tr th:only-of-type {\n",
       "        vertical-align: middle;\n",
       "    }\n",
       "\n",
       "    .dataframe tbody tr th {\n",
       "        vertical-align: top;\n",
       "    }\n",
       "\n",
       "    .dataframe thead th {\n",
       "        text-align: right;\n",
       "    }\n",
       "</style>\n",
       "<table border=\"1\" class=\"dataframe\">\n",
       "  <thead>\n",
       "    <tr style=\"text-align: right;\">\n",
       "      <th></th>\n",
       "      <th>category</th>\n",
       "      <th>Tokens</th>\n",
       "      <th>Tokens_Stemmed</th>\n",
       "      <th>Tokens_Lemmatized</th>\n",
       "      <th>Processed_Text</th>\n",
       "    </tr>\n",
       "  </thead>\n",
       "  <tbody>\n",
       "    <tr>\n",
       "      <th>0</th>\n",
       "      <td>business</td>\n",
       "      <td>[quarterly, profits, us, media, giant, timewar...</td>\n",
       "      <td>[quarterli, profit, us, media, giant, timewarn...</td>\n",
       "      <td>[quarterly, profit, u, medium, giant, timewarn...</td>\n",
       "      <td>quarterly profit u medium giant timewarner jum...</td>\n",
       "    </tr>\n",
       "    <tr>\n",
       "      <th>1</th>\n",
       "      <td>business</td>\n",
       "      <td>[dollar, hit, highest, level, euro, almost, th...</td>\n",
       "      <td>[dollar, hit, highest, level, euro, almost, th...</td>\n",
       "      <td>[dollar, hit, highest, level, euro, almost, th...</td>\n",
       "      <td>dollar hit highest level euro almost three mon...</td>\n",
       "    </tr>\n",
       "    <tr>\n",
       "      <th>2</th>\n",
       "      <td>business</td>\n",
       "      <td>[owners, embattled, russian, oil, giant, yukos...</td>\n",
       "      <td>[owner, embattl, russian, oil, giant, yuko, as...</td>\n",
       "      <td>[owner, embattled, russian, oil, giant, yukos,...</td>\n",
       "      <td>owner embattled russian oil giant yukos ask bu...</td>\n",
       "    </tr>\n",
       "    <tr>\n",
       "      <th>3</th>\n",
       "      <td>business</td>\n",
       "      <td>[british, airways, blamed, high, fuel, prices,...</td>\n",
       "      <td>[british, airway, blame, high, fuel, price, dr...</td>\n",
       "      <td>[british, airway, blamed, high, fuel, price, d...</td>\n",
       "      <td>british airway blamed high fuel price drop pro...</td>\n",
       "    </tr>\n",
       "    <tr>\n",
       "      <th>4</th>\n",
       "      <td>business</td>\n",
       "      <td>[shares, uk, drinks, food, firm, allied, domec...</td>\n",
       "      <td>[share, uk, drink, food, firm, alli, domecq, r...</td>\n",
       "      <td>[share, uk, drink, food, firm, allied, domecq,...</td>\n",
       "      <td>share uk drink food firm allied domecq risen s...</td>\n",
       "    </tr>\n",
       "  </tbody>\n",
       "</table>\n",
       "</div>"
      ],
      "text/plain": [
       "   category                                             Tokens  \\\n",
       "0  business  [quarterly, profits, us, media, giant, timewar...   \n",
       "1  business  [dollar, hit, highest, level, euro, almost, th...   \n",
       "2  business  [owners, embattled, russian, oil, giant, yukos...   \n",
       "3  business  [british, airways, blamed, high, fuel, prices,...   \n",
       "4  business  [shares, uk, drinks, food, firm, allied, domec...   \n",
       "\n",
       "                                      Tokens_Stemmed  \\\n",
       "0  [quarterli, profit, us, media, giant, timewarn...   \n",
       "1  [dollar, hit, highest, level, euro, almost, th...   \n",
       "2  [owner, embattl, russian, oil, giant, yuko, as...   \n",
       "3  [british, airway, blame, high, fuel, price, dr...   \n",
       "4  [share, uk, drink, food, firm, alli, domecq, r...   \n",
       "\n",
       "                                   Tokens_Lemmatized  \\\n",
       "0  [quarterly, profit, u, medium, giant, timewarn...   \n",
       "1  [dollar, hit, highest, level, euro, almost, th...   \n",
       "2  [owner, embattled, russian, oil, giant, yukos,...   \n",
       "3  [british, airway, blamed, high, fuel, price, d...   \n",
       "4  [share, uk, drink, food, firm, allied, domecq,...   \n",
       "\n",
       "                                      Processed_Text  \n",
       "0  quarterly profit u medium giant timewarner jum...  \n",
       "1  dollar hit highest level euro almost three mon...  \n",
       "2  owner embattled russian oil giant yukos ask bu...  \n",
       "3  british airway blamed high fuel price drop pro...  \n",
       "4  share uk drink food firm allied domecq risen s...  "
      ]
     },
     "execution_count": 17,
     "metadata": {},
     "output_type": "execute_result"
    }
   ],
   "source": [
    "df.head()"
   ]
  },
  {
   "cell_type": "code",
   "execution_count": 18,
   "id": "11aa1e9a",
   "metadata": {},
   "outputs": [],
   "source": [
    "df=df.drop('Tokens',axis=1)"
   ]
  },
  {
   "cell_type": "code",
   "execution_count": 19,
   "id": "54ce6b33",
   "metadata": {},
   "outputs": [
    {
     "name": "stdout",
     "output_type": "stream",
     "text": [
      "Shape of TF-IDF matrix: (2225, 5000)\n"
     ]
    }
   ],
   "source": [
    "\n",
    "from sklearn.feature_extraction.text import TfidfVectorizer\n",
    "\n",
    "# Initialize TF-IDF vectorizer\n",
    "vectorizer = TfidfVectorizer(max_features=5000)  # limit vocab to top 5000 words\n",
    "\n",
    "# Fit & transform the processed text\n",
    "X = vectorizer.fit_transform(df['Processed_Text'])\n",
    "\n",
    "print(\"Shape of TF-IDF matrix:\", X.shape)  # (num_articles, num_features)\n"
   ]
  },
  {
   "cell_type": "code",
   "execution_count": 20,
   "id": "fb9c8fa3",
   "metadata": {},
   "outputs": [
    {
     "name": "stdout",
     "output_type": "stream",
     "text": [
      "category\n",
      "sport            511\n",
      "business         510\n",
      "politics         417\n",
      "tech             401\n",
      "entertainment    386\n",
      "Name: count, dtype: int64\n"
     ]
    }
   ],
   "source": [
    "y = df['category']  # assuming your CSV has a 'Category' column\n",
    "print(y.value_counts())\n"
   ]
  },
  {
   "cell_type": "code",
   "execution_count": 21,
   "id": "ebd7d0de",
   "metadata": {},
   "outputs": [],
   "source": [
    "from sklearn.model_selection import train_test_split\n",
    "\n",
    "X_train, X_test, y_train, y_test = train_test_split(\n",
    "    X, y, test_size=0.2, random_state=42, stratify=y\n",
    ")\n"
   ]
  },
  {
   "cell_type": "code",
   "execution_count": 22,
   "id": "06d73984",
   "metadata": {},
   "outputs": [
    {
     "name": "stdout",
     "output_type": "stream",
     "text": [
      "Accuracy: 0.9842696629213483\n",
      "               precision    recall  f1-score   support\n",
      "\n",
      "     business       0.98      0.97      0.98       102\n",
      "entertainment       1.00      1.00      1.00        77\n",
      "     politics       0.96      0.98      0.97        84\n",
      "        sport       1.00      1.00      1.00       102\n",
      "         tech       0.97      0.97      0.97        80\n",
      "\n",
      "     accuracy                           0.98       445\n",
      "    macro avg       0.98      0.98      0.98       445\n",
      " weighted avg       0.98      0.98      0.98       445\n",
      "\n"
     ]
    }
   ],
   "source": [
    "from sklearn.naive_bayes import MultinomialNB\n",
    "from sklearn.metrics import accuracy_score, classification_report\n",
    "\n",
    "# Initialize and train\n",
    "model = MultinomialNB()\n",
    "model.fit(X_train, y_train)\n",
    "\n",
    "# Predict on test set\n",
    "y_pred = model.predict(X_test)\n",
    "\n",
    "# Evaluate\n",
    "print(\"Accuracy:\", accuracy_score(y_test, y_pred))\n",
    "print(classification_report(y_test, y_pred))\n"
   ]
  },
  {
   "cell_type": "code",
   "execution_count": 23,
   "id": "88c40e1d",
   "metadata": {},
   "outputs": [
    {
     "name": "stdout",
     "output_type": "stream",
     "text": [
      "Running GridSearchCV for Logistic Regression...\n"
     ]
    },
    {
     "name": "stderr",
     "output_type": "stream",
     "text": [
      "d:\\ML_Projects\\News_Summarization\\venv\\Lib\\site-packages\\sklearn\\linear_model\\_logistic.py:1296: FutureWarning: Using the 'liblinear' solver for multiclass classification is deprecated. An error will be raised in 1.8. Either use another solver which supports the multinomial loss or wrap the estimator in a OneVsRestClassifier to keep applying a one-versus-rest scheme.\n",
      "  warnings.warn(\n"
     ]
    },
    {
     "name": "stdout",
     "output_type": "stream",
     "text": [
      "Running GridSearchCV for Naive Bayes...\n",
      "Running GridSearchCV for SVM...\n",
      "Running GridSearchCV for Random Forest...\n",
      "🏆 Best Model: Logistic Regression\n",
      "🔧 Best Parameters: {'C': 10, 'solver': 'liblinear'}\n",
      "📊 Test Accuracy: 0.9865168539325843\n"
     ]
    }
   ],
   "source": [
    "from sklearn.model_selection import GridSearchCV\n",
    "from sklearn.linear_model import LogisticRegression\n",
    "from sklearn.naive_bayes import MultinomialNB\n",
    "from sklearn.svm import SVC\n",
    "from sklearn.ensemble import RandomForestClassifier\n",
    "import pandas as pd\n",
    "\n",
    "best_model = None\n",
    "best_score = 0\n",
    "best_name = \"\"\n",
    "best_params = None\n",
    "\n",
    "# Define models + parameter grids\n",
    "models = {\n",
    "    \"Logistic Regression\": {\n",
    "        \"model\": LogisticRegression(max_iter=1000),\n",
    "        \"params\": {\n",
    "            \"C\": [0.01, 0.1, 1, 10],\n",
    "            \"solver\": [\"liblinear\", \"lbfgs\"]\n",
    "        }\n",
    "    },\n",
    "    \"Naive Bayes\": {\n",
    "        \"model\": MultinomialNB(),\n",
    "        \"params\": {\n",
    "            \"alpha\": [0.1, 0.5, 1.0]\n",
    "        }\n",
    "    },\n",
    "    \"SVM\": {\n",
    "        \"model\": SVC(),\n",
    "        \"params\": {\n",
    "            \"C\": [0.1, 1, 10],\n",
    "            \"kernel\": [\"linear\", \"rbf\"],\n",
    "            \"gamma\": [\"scale\", \"auto\"]\n",
    "        }\n",
    "    },\n",
    "    \"Random Forest\": {\n",
    "        \"model\": RandomForestClassifier(),\n",
    "        \"params\": {\n",
    "            \"n_estimators\": [100, 200],\n",
    "            \"max_depth\": [None, 10, 20],\n",
    "            \"min_samples_split\": [2, 5],\n",
    "            \"min_samples_leaf\": [1, 2]\n",
    "        }\n",
    "    }\n",
    "}\n",
    "\n",
    "for name, mp in models.items():\n",
    "    print(f\"Running GridSearchCV for {name}...\")\n",
    "    grid = GridSearchCV(mp[\"model\"], mp[\"params\"], cv=5, scoring=\"accuracy\", n_jobs=-1)\n",
    "    grid.fit(X_train, y_train)\n",
    "    \n",
    "    score = grid.best_estimator_.score(X_test, y_test)\n",
    "    if score > best_score:\n",
    "        best_model = grid.best_estimator_\n",
    "        best_score = score\n",
    "        best_name = name\n",
    "        best_params = grid.best_params_\n",
    "\n",
    "print(\"🏆 Best Model:\", best_name)\n",
    "print(\"🔧 Best Parameters:\", best_params)\n",
    "print(\"📊 Test Accuracy:\", best_score)\n"
   ]
  },
  {
   "cell_type": "code",
   "execution_count": 24,
   "id": "2ee5672d",
   "metadata": {},
   "outputs": [
    {
     "name": "stdout",
     "output_type": "stream",
     "text": [
      "✅ Final model saved as best_news_classifier.pkl\n"
     ]
    },
    {
     "name": "stderr",
     "output_type": "stream",
     "text": [
      "d:\\ML_Projects\\News_Summarization\\venv\\Lib\\site-packages\\sklearn\\linear_model\\_logistic.py:1296: FutureWarning: Using the 'liblinear' solver for multiclass classification is deprecated. An error will be raised in 1.8. Either use another solver which supports the multinomial loss or wrap the estimator in a OneVsRestClassifier to keep applying a one-versus-rest scheme.\n",
      "  warnings.warn(\n"
     ]
    }
   ],
   "source": [
    "import joblib\n",
    "\n",
    "# Retrain best model on full training data\n",
    "final_model = best_model\n",
    "final_model.fit(X_train, y_train)\n",
    "\n",
    "# Save model\n",
    "joblib.dump(final_model, \"best_news_classifier.pkl\")\n",
    "print(\"✅ Final model saved as best_news_classifier.pkl\")\n"
   ]
  },
  {
   "cell_type": "code",
   "execution_count": 25,
   "id": "7a882c9e",
   "metadata": {},
   "outputs": [
    {
     "data": {
      "text/html": [
       "<div>\n",
       "<style scoped>\n",
       "    .dataframe tbody tr th:only-of-type {\n",
       "        vertical-align: middle;\n",
       "    }\n",
       "\n",
       "    .dataframe tbody tr th {\n",
       "        vertical-align: top;\n",
       "    }\n",
       "\n",
       "    .dataframe thead th {\n",
       "        text-align: right;\n",
       "    }\n",
       "</style>\n",
       "<table border=\"1\" class=\"dataframe\">\n",
       "  <thead>\n",
       "    <tr style=\"text-align: right;\">\n",
       "      <th></th>\n",
       "      <th>category</th>\n",
       "      <th>Tokens_Stemmed</th>\n",
       "      <th>Tokens_Lemmatized</th>\n",
       "      <th>Processed_Text</th>\n",
       "    </tr>\n",
       "  </thead>\n",
       "  <tbody>\n",
       "    <tr>\n",
       "      <th>0</th>\n",
       "      <td>business</td>\n",
       "      <td>[quarterli, profit, us, media, giant, timewarn...</td>\n",
       "      <td>[quarterly, profit, u, medium, giant, timewarn...</td>\n",
       "      <td>quarterly profit u medium giant timewarner jum...</td>\n",
       "    </tr>\n",
       "    <tr>\n",
       "      <th>1</th>\n",
       "      <td>business</td>\n",
       "      <td>[dollar, hit, highest, level, euro, almost, th...</td>\n",
       "      <td>[dollar, hit, highest, level, euro, almost, th...</td>\n",
       "      <td>dollar hit highest level euro almost three mon...</td>\n",
       "    </tr>\n",
       "    <tr>\n",
       "      <th>2</th>\n",
       "      <td>business</td>\n",
       "      <td>[owner, embattl, russian, oil, giant, yuko, as...</td>\n",
       "      <td>[owner, embattled, russian, oil, giant, yukos,...</td>\n",
       "      <td>owner embattled russian oil giant yukos ask bu...</td>\n",
       "    </tr>\n",
       "    <tr>\n",
       "      <th>3</th>\n",
       "      <td>business</td>\n",
       "      <td>[british, airway, blame, high, fuel, price, dr...</td>\n",
       "      <td>[british, airway, blamed, high, fuel, price, d...</td>\n",
       "      <td>british airway blamed high fuel price drop pro...</td>\n",
       "    </tr>\n",
       "    <tr>\n",
       "      <th>4</th>\n",
       "      <td>business</td>\n",
       "      <td>[share, uk, drink, food, firm, alli, domecq, r...</td>\n",
       "      <td>[share, uk, drink, food, firm, allied, domecq,...</td>\n",
       "      <td>share uk drink food firm allied domecq risen s...</td>\n",
       "    </tr>\n",
       "  </tbody>\n",
       "</table>\n",
       "</div>"
      ],
      "text/plain": [
       "   category                                     Tokens_Stemmed  \\\n",
       "0  business  [quarterli, profit, us, media, giant, timewarn...   \n",
       "1  business  [dollar, hit, highest, level, euro, almost, th...   \n",
       "2  business  [owner, embattl, russian, oil, giant, yuko, as...   \n",
       "3  business  [british, airway, blame, high, fuel, price, dr...   \n",
       "4  business  [share, uk, drink, food, firm, alli, domecq, r...   \n",
       "\n",
       "                                   Tokens_Lemmatized  \\\n",
       "0  [quarterly, profit, u, medium, giant, timewarn...   \n",
       "1  [dollar, hit, highest, level, euro, almost, th...   \n",
       "2  [owner, embattled, russian, oil, giant, yukos,...   \n",
       "3  [british, airway, blamed, high, fuel, price, d...   \n",
       "4  [share, uk, drink, food, firm, allied, domecq,...   \n",
       "\n",
       "                                      Processed_Text  \n",
       "0  quarterly profit u medium giant timewarner jum...  \n",
       "1  dollar hit highest level euro almost three mon...  \n",
       "2  owner embattled russian oil giant yukos ask bu...  \n",
       "3  british airway blamed high fuel price drop pro...  \n",
       "4  share uk drink food firm allied domecq risen s...  "
      ]
     },
     "execution_count": 25,
     "metadata": {},
     "output_type": "execute_result"
    }
   ],
   "source": [
    "df.head()"
   ]
  },
  {
   "cell_type": "code",
   "execution_count": 26,
   "id": "3ed50e60",
   "metadata": {},
   "outputs": [],
   "source": [
    "from nltk.tokenize import sent_tokenize\n",
    "from sklearn.feature_extraction.text import TfidfVectorizer\n",
    "from sklearn.metrics.pairwise import cosine_similarity\n",
    "import numpy as np\n",
    "\n",
    "def summarize_text(processed_text, top_n=3):\n",
    "    \"\"\"\n",
    "    Extractive summarization using TF-IDF + cosine similarity.\n",
    "    Takes an article, splits into sentences, ranks by importance,\n",
    "    and returns top_n sentences as summary.\n",
    "    \"\"\"\n",
    "    \n",
    "    # 1️⃣ Split into sentences\n",
    "    sentences = sent_tokenize(processed_text)\n",
    "    \n",
    "    # If short article, return full text\n",
    "    if len(sentences) <= top_n:\n",
    "        return processed_text\n",
    "    \n",
    "    # 2️⃣ TF-IDF per sentence (local vectorizer, not the classifier one)\n",
    "    tfidf = TfidfVectorizer(stop_words='english')\n",
    "    sentence_vectors = tfidf.fit_transform(sentences)\n",
    "    \n",
    "    # 3️⃣ Cosine similarity between sentences\n",
    "    sim_matrix = cosine_similarity(sentence_vectors)\n",
    "    \n",
    "    # 4️⃣ Score sentences by sum of similarities\n",
    "    scores = sim_matrix.sum(axis=1)\n",
    "    \n",
    "    # 5️⃣ Rank sentences and pick top_n\n",
    "    ranked_sentences = [sentences[i] for i in np.argsort(-scores)]\n",
    "    \n",
    "    return \" \".join(ranked_sentences[:top_n])\n"
   ]
  },
  {
   "cell_type": "code",
   "execution_count": 27,
   "id": "bd712cd8",
   "metadata": {},
   "outputs": [
    {
     "name": "stdout",
     "output_type": "stream",
     "text": [
      "Category: business\n",
      "Summary:\n",
      " quarterly profit u medium giant timewarner jumped bn three month december yearearlier firm one biggest investor google benefited sale highspeed internet connection higher advert sale timewarner said fourth quarter sale rose bn bn profit buoyed oneoff gain offset profit dip warner bros less user aol time warner said friday owns searchengine google internet business aol mixed fortune lost subscriber fourth quarter profit lower preceding three quarter however company said aols underlying profit exceptional item rose back stronger internet advertising revenue hope increase subscriber offering online service free timewarner internet customer try sign aols existing customer highspeed broadband timewarner also restate result following probe u security exchange commission sec close concluding time warner fourth quarter profit slightly better analyst expectation film division saw profit slump helped boxoffice flop alexander catwoman sharp contrast yearearlier third final film lord ring trilogy boosted result fullyear timewarner posted profit bn performance revenue grew bn financial performance strong meeting exceeding fullyear objective greatly enhancing flexibility chairman chief executive richard parson said timewarner projecting operating earnings growth around also expects higher revenue wider profit margin timewarner restate account part effort resolve inquiry aol u market regulator already offered pay settle charge deal review sec company said unable estimate amount needed set aside legal reserve previously set intends adjust way account deal german music publisher bertelsmanns purchase stake aol europe reported advertising revenue book sale stake aol europe loss value stake\n"
     ]
    }
   ],
   "source": [
    "article = df['Processed_Text'][0]\n",
    "\n",
    "# Categorization\n",
    "X_input = vectorizer.transform([article])\n",
    "predicted_category = final_model.predict(X_input)[0]\n",
    "print(\"Category:\", predicted_category)\n",
    "\n",
    "# Summarization\n",
    "summary = summarize_text(article, top_n=2)\n",
    "print(\"Summary:\\n\", summary)\n"
   ]
  },
  {
   "cell_type": "code",
   "execution_count": 28,
   "id": "ae89864a",
   "metadata": {},
   "outputs": [
    {
     "data": {
      "text/plain": [
       "['tfidf_vectorizer.pkl']"
      ]
     },
     "execution_count": 28,
     "metadata": {},
     "output_type": "execute_result"
    }
   ],
   "source": [
    "# Save TF-IDF vectorizer used for training the classifier\n",
    "joblib.dump(vectorizer, \"tfidf_vectorizer.pkl\")"
   ]
  },
  {
   "cell_type": "code",
   "execution_count": null,
   "id": "e01b7d7d",
   "metadata": {},
   "outputs": [],
   "source": []
  }
 ],
 "metadata": {
  "kernelspec": {
   "display_name": "Python 3",
   "language": "python",
   "name": "python3"
  },
  "language_info": {
   "codemirror_mode": {
    "name": "ipython",
    "version": 3
   },
   "file_extension": ".py",
   "mimetype": "text/x-python",
   "name": "python",
   "nbconvert_exporter": "python",
   "pygments_lexer": "ipython3",
   "version": "3.13.7"
  }
 },
 "nbformat": 4,
 "nbformat_minor": 5
}
